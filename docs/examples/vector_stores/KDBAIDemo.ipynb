{
 "cells": [
  {
   "cell_type": "markdown",
   "id": "cb212650-86b7-4298-8bbd-c20a5227fbf0",
   "metadata": {},
   "source": [
    "# LlamaIndex Temporal RAG pipeline using KDB.AI vector store\n",
    "\n",
    "> [KDB.AI](https://kdb.ai/) is a powerful knowledge-based vector database and search engine that allows you to build scalable, reliable AI applications, using real-time data, by providing advanced search, recommendation and personalization.\n",
    "\n",
    "This example demonstrates how to use KDB.AI to run semantic search on annual financial reports.\n",
    "\n",
    "To access your end point and API keys, sign up to KDB.AI here.\n",
    "\n",
    "To set up your development environment, follow the instructions on the KDB.AI pre-requisites page.\n",
    "\n",
    "The following examples demonstrate some of the ways you can interact with KDB.AI through LlamaIndex."
   ]
  },
  {
   "cell_type": "markdown",
   "id": "32f36ddd-aa4d-4284-a236-be3028758ae2",
   "metadata": {},
   "source": [
    "## Install dependencies with Pip"
   ]
  },
  {
   "cell_type": "code",
   "execution_count": null,
   "id": "1530006e-dbcb-4783-8f7a-5155f4edc1d4",
   "metadata": {},
   "outputs": [],
   "source": [
    "# %pip install llama-index llama-index-embeddings-huggingface llama-index-llms-openai llama-index-readers-file llama-index-vector-stores-kdbai\n",
    "# %pip install kdbai_client pandas plotly"
   ]
  },
  {
   "cell_type": "markdown",
   "id": "68ba14b7-1208-4494-93ec-ce1930b7bf5b",
   "metadata": {},
   "source": [
    "## Import dependencies"
   ]
  },
  {
   "cell_type": "code",
   "execution_count": null,
   "id": "f4ca21f7-819c-4abb-8479-e7c6f3175f34",
   "metadata": {},
   "outputs": [
    {
     "name": "stdin",
     "output_type": "stream",
     "text": [
      "OpenAI API key:  ········\n"
     ]
    }
   ],
   "source": [
    "from getpass import getpass\n",
    "import re\n",
    "import os\n",
    "import shutil\n",
    "import time\n",
    "import urllib\n",
    "\n",
    "import pandas as pd\n",
    "import plotly.express as px\n",
    "\n",
    "from llama_index.core import (\n",
    "    Settings,\n",
    "    SimpleDirectoryReader,\n",
    "    ServiceContext,\n",
    "    StorageContext,\n",
    "    VectorStoreIndex,\n",
    ")\n",
    "from llama_index.core.node_parser import SentenceSplitter\n",
    "from llama_index.core.retrievers import VectorIndexRetriever\n",
    "from llama_index.embeddings.huggingface import HuggingFaceEmbedding\n",
    "from llama_index.llms.openai import OpenAI\n",
    "from llama_index.vector_stores.kdbai import KDBAIVectorStore\n",
    "\n",
    "import pykx as kx\n",
    "import kdbai_client as kdbai\n",
    "\n",
    "OUTDIR = \"pdf\"\n",
    "RESET = True\n",
    "\n",
    "# LLM = 'gpt-3.5-turbo'\n",
    "LLM = \"gpt-4-turbo-preview\"  # Expensive !!!\n",
    "EMBEDDING = \"sentence-transformers/all-mpnet-base-v2\"\n",
    "\n",
    "os.environ[\"OPENAI_API_KEY\"] = getpass(\"OpenAI API key: \")"
   ]
  },
  {
   "cell_type": "markdown",
   "id": "2ca073f5-3d84-4b0e-8684-1396c1311fb8",
   "metadata": {},
   "source": [
    "## Create KDB.AI session and table"
   ]
  },
  {
   "cell_type": "code",
   "execution_count": null,
   "id": "0a5bb2fb-4ffc-4bfd-b825-36c2cf50367c",
   "metadata": {},
   "outputs": [],
   "source": [
    "KDBAI_ENDPOINT = \"http://localhost:8082\"\n",
    "KDBAI_API_KEY = None\n",
    "KDBAI_TABLE_NAME = \"reports\"\n",
    "\n",
    "session = kdbai.Session(endpoint=KDBAI_ENDPOINT, api_key=KDBAI_API_KEY)\n",
    "\n",
    "if KDBAI_TABLE_NAME in session.list():\n",
    "    session.table(KDBAI_TABLE_NAME).drop()\n",
    "\n",
    "schema = dict(\n",
    "    columns=[\n",
    "        dict(name=\"document_id\", pytype=\"bytes\"),\n",
    "        dict(name=\"text\", pytype=\"bytes\"),\n",
    "        dict(\n",
    "            name=\"embedding\",\n",
    "            vectorIndex=dict(type=\"flat\", metric=\"L2\", dims=768),\n",
    "        ),\n",
    "        dict(name=\"title\", pytype=\"bytes\"),\n",
    "        dict(name=\"publication_date\", pytype=\"datetime64[ns]\"),\n",
    "    ]\n",
    ")\n",
    "\n",
    "table = session.create_table(KDBAI_TABLE_NAME, schema)"
   ]
  },
  {
   "cell_type": "markdown",
   "id": "a208460c-2c87-4a3f-9926-65d6dcc4b45d",
   "metadata": {},
   "source": [
    "## Financial reports urls and metadata"
   ]
  },
  {
   "cell_type": "code",
   "execution_count": null,
   "id": "6143a9ec-7d48-4f61-bb86-a1de427a0279",
   "metadata": {},
   "outputs": [],
   "source": [
    "INPUT_URLS = [\n",
    "    \"https://www.govinfo.gov/content/pkg/PLAW-106publ102/pdf/PLAW-106publ102.pdf\",\n",
    "    \"https://www.govinfo.gov/content/pkg/PLAW-111publ203/pdf/PLAW-111publ203.pdf\",\n",
    "]\n",
    "\n",
    "METADATA = {\n",
    "    \"pdf/PLAW-106publ102.pdf\": {\n",
    "        \"title\": \"GRAMM–LEACH–BLILEY ACT, 1999\",\n",
    "        \"publication_date\": pd.to_datetime(\"1999-11-12\"),\n",
    "    },\n",
    "    \"pdf/PLAW-111publ203.pdf\": {\n",
    "        \"title\": \"DODD-FRANK WALL STREET REFORM AND CONSUMER PROTECTION ACT, 2010\",\n",
    "        \"publication_date\": pd.to_datetime(\"2010-07-21\"),\n",
    "    },\n",
    "}"
   ]
  },
  {
   "cell_type": "markdown",
   "id": "e1e6c6c5-f151-4c01-a9a1-ab1d540402eb",
   "metadata": {},
   "source": [
    "## Download PDF files locally"
   ]
  },
  {
   "cell_type": "code",
   "execution_count": null,
   "id": "3ee36757-b0b7-4478-a71a-601220048a05",
   "metadata": {},
   "outputs": [
    {
     "name": "stdout",
     "output_type": "stream",
     "text": [
      "Downloading https://www.govinfo.gov/content/pkg/PLAW-106publ102/pdf/PLAW-106publ102.pdf...\n",
      "Downloading https://www.govinfo.gov/content/pkg/PLAW-111publ203/pdf/PLAW-111publ203.pdf...\n",
      "CPU times: user 45.3 ms, sys: 31.6 ms, total: 76.9 ms\n",
      "Wall time: 5.63 s\n"
     ]
    }
   ],
   "source": [
    "%%time\n",
    "\n",
    "CHUNK_SIZE = 512 * 1024\n",
    "\n",
    "\n",
    "def download_file(url):\n",
    "    print(\"Downloading %s...\" % url)\n",
    "    out = os.path.join(OUTDIR, os.path.basename(url))\n",
    "    try:\n",
    "        response = urllib.request.urlopen(url)\n",
    "    except urllib.error.URLError as e:\n",
    "        logging.exception(\"Failed to download %s !\" % url)\n",
    "    else:\n",
    "        with open(out, \"wb\") as f:\n",
    "            while True:\n",
    "                chunk = response.read(CHUNK_SIZE)\n",
    "                if chunk:\n",
    "                    f.write(chunk)\n",
    "                else:\n",
    "                    break\n",
    "    return out\n",
    "\n",
    "\n",
    "if RESET:\n",
    "    if os.path.exists(OUTDIR):\n",
    "        shutil.rmtree(OUTDIR)\n",
    "    os.mkdir(OUTDIR)\n",
    "\n",
    "    local_files = [download_file(x) for x in INPUT_URLS]\n",
    "    local_files[:10]"
   ]
  },
  {
   "cell_type": "markdown",
   "id": "10d52ad8-b9bd-459e-9ce4-c370982a149f",
   "metadata": {},
   "source": [
    "## Load local PDF files with LlamaIndex"
   ]
  },
  {
   "cell_type": "code",
   "execution_count": null,
   "id": "9714258b-f58a-4964-9d3f-0298a98b87e0",
   "metadata": {},
   "outputs": [
    {
     "name": "stdout",
     "output_type": "stream",
     "text": [
      "CPU times: user 3.96 s, sys: 26.8 ms, total: 3.99 s\n",
      "Wall time: 3.99 s\n"
     ]
    },
    {
     "data": {
      "text/plain": [
       "994"
      ]
     },
     "execution_count": null,
     "metadata": {},
     "output_type": "execute_result"
    }
   ],
   "source": [
    "%%time\n",
    "\n",
    "\n",
    "def get_metadata(filepath):\n",
    "    return METADATA[filepath]\n",
    "\n",
    "\n",
    "documents = SimpleDirectoryReader(\n",
    "    input_files=local_files,\n",
    "    file_metadata=get_metadata,\n",
    ")\n",
    "\n",
    "docs = documents.load_data()\n",
    "len(docs)"
   ]
  },
  {
   "cell_type": "markdown",
   "id": "2f3ba953-4034-4421-acf0-dbac33dfed67",
   "metadata": {},
   "source": [
    "## Setup LlamaIndex RAG pipeline using KDB.AI vector store"
   ]
  },
  {
   "cell_type": "code",
   "execution_count": null,
   "id": "4ed27c4b-a979-4d4f-9f17-7c6bd9844d9a",
   "metadata": {},
   "outputs": [
    {
     "name": "stderr",
     "output_type": "stream",
     "text": [
      "<timed exec>:4: DeprecationWarning: Call to deprecated class method from_defaults. (ServiceContext is deprecated, please use `llama_index.settings.Settings` instead.) -- Deprecated since version 0.10.0.\n"
     ]
    },
    {
     "name": "stdout",
     "output_type": "stream",
     "text": [
      "CPU times: user 1min 27s, sys: 3min 4s, total: 4min 31s\n",
      "Wall time: 33.3 s\n"
     ]
    }
   ],
   "source": [
    "%%time\n",
    "\n",
    "embed_model = HuggingFaceEmbedding(model_name=EMBEDDING)\n",
    "llm = OpenAI(temperature=0, model=LLM)\n",
    "vector_store = KDBAIVectorStore(table)\n",
    "service_context = ServiceContext.from_defaults(\n",
    "    embed_model=embed_model, llm=llm\n",
    ")\n",
    "storage_context = StorageContext.from_defaults(vector_store=vector_store)\n",
    "index = VectorStoreIndex.from_documents(\n",
    "    docs,\n",
    "    service_context=service_context,\n",
    "    storage_context=storage_context,\n",
    "    transformations=[SentenceSplitter(chunk_size=2048, chunk_overlap=0)],\n",
    ")"
   ]
  },
  {
   "cell_type": "markdown",
   "id": "0a0ca610-4038-41c2-a1f9-5c8af9d764ce",
   "metadata": {},
   "source": [
    "## Setup the LlamaIndex Query Engine"
   ]
  },
  {
   "cell_type": "code",
   "execution_count": null,
   "id": "f7d29b82-c1b8-4880-869e-dabc8bdedaa4",
   "metadata": {},
   "outputs": [
    {
     "name": "stdout",
     "output_type": "stream",
     "text": [
      "CPU times: user 32.9 ms, sys: 5.4 ms, total: 38.3 ms\n",
      "Wall time: 37.8 ms\n"
     ]
    }
   ],
   "source": [
    "%%time\n",
    "\n",
    "# Using gpt-3.5-turbo, the 16k tokens context size can only fit around 15 pages of document.\n",
    "# Using gpt-4-turbo-preview, the 128k tokens context size can take 100 pages.\n",
    "K = 100\n",
    "\n",
    "query_engine = index.as_query_engine(\n",
    "    similarity_top_k=K,\n",
    "    filter=[(\"<\", \"publication_date\", \"2008-09-15\")],\n",
    "    sort_by=\"publication_date\",\n",
    ")"
   ]
  },
  {
   "cell_type": "markdown",
   "id": "e442d238-03cf-41d1-9ea4-9d435bb30278",
   "metadata": {},
   "source": [
    "## Before the 2008 crisis"
   ]
  },
  {
   "cell_type": "code",
   "execution_count": null,
   "id": "1d791e0e-67b0-4179-a4c4-a1f5fd6d765b",
   "metadata": {},
   "outputs": [
    {
     "name": "stderr",
     "output_type": "stream",
     "text": [
      "huggingface/tokenizers: The current process just got forked, after parallelism has already been used. Disabling parallelism to avoid deadlocks...\n",
      "To disable this warning, you can either:\n",
      "\t- Avoid using `tokenizers` before the fork if possible\n",
      "\t- Explicitly set the environment variable TOKENIZERS_PARALLELISM=(true | false)\n"
     ]
    },
    {
     "name": "stdout",
     "output_type": "stream",
     "text": [
      "Before the 2008 financial crisis, the main financial regulations in the US included the Gramm-Leach-Bliley Act of 1999, which repealed parts of the Glass-Steagall Act of 1933, allowing banks to offer a broader range of financial services, including investment and insurance services. Other significant regulations included the Sarbanes-Oxley Act of 2002, aimed at protecting investors from fraudulent financial reporting by corporations, and various rules enforced by the Securities and Exchange Commission (SEC) and other regulatory bodies.\n",
      "CPU times: user 232 ms, sys: 40.5 ms, total: 272 ms\n",
      "Wall time: 24.2 s\n"
     ]
    }
   ],
   "source": [
    "%%time\n",
    "\n",
    "result = query_engine.query(\n",
    "    \"\"\"\n",
    "What was the main financial regulation in the US before the 2008 financial crisis ?\n",
    "\"\"\"\n",
    ")\n",
    "print(result.response)"
   ]
  },
  {
   "cell_type": "code",
   "execution_count": null,
   "id": "ee5c52ed-fc1a-4f4f-8cc4-efbb4e5a067f",
   "metadata": {},
   "outputs": [
    {
     "name": "stdout",
     "output_type": "stream",
     "text": [
      "The Gramm-Leach-Bliley Act of 1999, also known as the Financial Services Modernization Act, primarily aimed to allow the consolidation of financial services companies, such as banks, securities firms, and insurance companies. It repealed the Glass-Steagall Act's provisions that prohibited a bank from offering investment, commercial banking, and insurance services. \n",
      "\n",
      "Strengths:\n",
      "1. The Act facilitated a more competitive and efficient financial services market by allowing financial institutions to offer a broader range of services.\n",
      "2. It aimed to improve the stability of financial institutions by allowing diversification of their services and revenue sources.\n",
      "3. The Act included provisions for the protection of consumers' personal financial information.\n",
      "\n",
      "Weaknesses:\n",
      "1. The Act's allowance for the consolidation of financial services may have contributed to the \"too big to fail\" phenomenon, where the failure of a single, large financial institution could pose a systemic risk to the economy.\n",
      "2. It did not adequately address or foresee the risks associated with the increased complexity and interconnectedness of financial institutions.\n",
      "3. The Act's focus was more on modernization and competition, with less emphasis on strengthening regulatory oversight to manage the risks of a more integrated financial services market.\n",
      "\n",
      "While the Gramm-Leach-Bliley Act of 1999 had several strengths in terms of promoting efficiency and competition in the financial services market, its weaknesses, particularly in terms of regulatory oversight and managing systemic risk, suggest that it was not sufficient to prevent the 2008 financial crisis. The crisis was multifaceted, involving issues like subprime mortgage lending and securitization, which were not directly addressed by the Act.\n",
      "CPU times: user 202 ms, sys: 36.3 ms, total: 239 ms\n",
      "Wall time: 29.2 s\n"
     ]
    }
   ],
   "source": [
    "%%time\n",
    "\n",
    "result = query_engine.query(\n",
    "    \"\"\"\n",
    "Is the Gramm-Leach-Bliley Act of 1999 enough to prevent the 2008 crisis. Search the document and explain its strenghts and weaknesses to regulate the US stock market.\n",
    "\"\"\"\n",
    ")\n",
    "print(result.response)"
   ]
  },
  {
   "cell_type": "markdown",
   "id": "5c6b52ee-2086-4e50-8e88-6ad6920cc8bc",
   "metadata": {},
   "source": [
    "## After the 2008 crisis"
   ]
  },
  {
   "cell_type": "code",
   "execution_count": null,
   "id": "37753e54-959b-43a3-b596-7cef0e94d4ba",
   "metadata": {},
   "outputs": [],
   "source": [
    "%%time\n",
    "\n",
    "# Using gpt-3.5-turbo, the 16k tokens context size can only fit around 15 pages of document.\n",
    "# Using gpt-4-turbo-preview, the 128k tokens context size can take 100 pages.\n",
    "K = 100\n",
    "\n",
    "query_engine = index.as_query_engine(\n",
    "    similarity_top_k=K,\n",
    "    filter=[(\">=\", \"publication_date\", \"2008-09-15\")],\n",
    "    sort_by=\"publication_date\",\n",
    ")"
   ]
  },
  {
   "cell_type": "code",
   "execution_count": null,
   "id": "445ebab3-4431-4f75-a07d-c998c98b7cfd",
   "metadata": {},
   "outputs": [
    {
     "name": "stdout",
     "output_type": "stream",
     "text": [
      "On the 15th of September 2008, Lehman Brothers, a global financial services firm, filed for bankruptcy protection, marking the largest bankruptcy filing in U.S. history at the time. This event significantly intensified the 2008 financial crisis, leading to a global economic downturn.\n",
      "CPU times: user 199 ms, sys: 28.4 ms, total: 228 ms\n",
      "Wall time: 15.8 s\n"
     ]
    }
   ],
   "source": [
    "%%time\n",
    "\n",
    "result = query_engine.query(\n",
    "    \"\"\"\n",
    "What happened on the 15th of September 2008 ? Answer from your own knowledge if necessary.\n",
    "\"\"\"\n",
    ")\n",
    "print(result.response)"
   ]
  },
  {
   "cell_type": "code",
   "execution_count": null,
   "id": "a05c539e-85c1-4592-808b-07d68e68e032",
   "metadata": {},
   "outputs": [
    {
     "name": "stdout",
     "output_type": "stream",
     "text": [
      "The Dodd-Frank Wall Street Reform and Consumer Protection Act, 2010.\n",
      "CPU times: user 195 ms, sys: 37.5 ms, total: 233 ms\n",
      "Wall time: 12.5 s\n"
     ]
    }
   ],
   "source": [
    "%%time\n",
    "\n",
    "result = query_engine.query(\n",
    "    \"\"\"\n",
    "What was the new US financial regulation enacted after the 2008 crisis to increase the market regulation and to improve consumer sentiment ?\n",
    "\"\"\"\n",
    ")\n",
    "print(result.response)"
   ]
  },
  {
   "cell_type": "markdown",
   "id": "f06802cf-c241-4131-8a5d-529ea3933e59",
   "metadata": {},
   "source": [
    "## In depth analysis"
   ]
  },
  {
   "cell_type": "code",
   "execution_count": null,
   "id": "67c2240b-7b0d-4bd8-8c19-fcf7e5ba429c",
   "metadata": {},
   "outputs": [
    {
     "name": "stdout",
     "output_type": "stream",
     "text": [
      "CPU times: user 237 µs, sys: 79 µs, total: 316 µs\n",
      "Wall time: 320 µs\n"
     ]
    }
   ],
   "source": [
    "%%time\n",
    "\n",
    "# Using gpt-3.5-turbo, the 16k tokens context size can only fit around 15 pages of document.\n",
    "# Using gpt-4-turbo-preview, the 128k tokens context size can take 100 pages.\n",
    "K = 100\n",
    "\n",
    "query_engine = index.as_query_engine(\n",
    "    similarity_top_k=K, sort_by=\"publication_date\"\n",
    ")"
   ]
  },
  {
   "cell_type": "code",
   "execution_count": null,
   "id": "b5fcb92b-7e2f-4945-82c7-08bffd20a052",
   "metadata": {},
   "outputs": [
    {
     "name": "stdout",
     "output_type": "stream",
     "text": [
      "Based on the provided context, the Dodd-Frank Wall Street Reform and Consumer Protection Act, enacted on July 21, 2010, represents a significant overhaul of financial regulation in the United States following the 2008 financial crisis. The Act aimed to promote financial stability by improving accountability and transparency in the financial system, ending \"too big to fail\" institutions, protecting consumers from abusive financial services practices, and for other purposes. Key components of the Act include the establishment of the Financial Stability Oversight Council to monitor systemic risk, the creation of the Office of Financial Research to support the Council with data analysis and research, and enhanced regulation of credit rating agencies to address conflicts of interest and promote accuracy in ratings. The Act also introduced concentration limits on large financial firms to prevent excessive risk accumulation and mandated the creation of a Consumer Financial Protection Bureau to oversee consumer financial products and services.\n",
      "\n",
      "Drawing from prior knowledge, before the 2008 crisis, financial regulation in the U.S. was criticized for being fragmented and for having gaps that allowed for excessive risk-taking by financial institutions, inadequate oversight of the shadow banking system, and a lack of consumer protection in financial products and services. The crisis revealed vulnerabilities in the financial system, including the failure of major financial institutions, the collapse of the housing market, and the issuance of high-risk mortgage-backed securities. In response, the Dodd-Frank Act sought to address these issues by tightening financial regulations, increasing oversight of financial markets and institutions, and enhancing consumer protections to prevent a recurrence of the financial crisis.\n",
      "CPU times: user 937 ms, sys: 2 s, total: 2.94 s\n",
      "Wall time: 38.2 s\n"
     ]
    }
   ],
   "source": [
    "%%time\n",
    "\n",
    "result = query_engine.query(\n",
    "    \"\"\"\n",
    "Analyse the US financial regulations before and after the 2008 crisis and produce a report of all related arguments to explain what happened, and to ensure that does not happen again.\n",
    "Use both the provided context and your own knowledge but do mention explicitely which one you use.\n",
    "\"\"\"\n",
    ")\n",
    "print(result.response)"
   ]
  }
 ],
 "metadata": {
  "kernelspec": {
   "display_name": "Python 3 (ipykernel)",
   "language": "python",
   "name": "python3"
  },
  "language_info": {
   "codemirror_mode": {
    "name": "ipython",
    "version": 3
   },
   "file_extension": ".py",
   "mimetype": "text/x-python",
   "name": "python",
   "nbconvert_exporter": "python",
   "pygments_lexer": "ipython3"
  }
 },
 "nbformat": 4,
 "nbformat_minor": 5
}
